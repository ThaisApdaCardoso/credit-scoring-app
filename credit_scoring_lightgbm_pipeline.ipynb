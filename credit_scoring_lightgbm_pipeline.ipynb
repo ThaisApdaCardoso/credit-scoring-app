
{
 "cells": [
  {
   "cell_type": "code",
   "execution_count": null,
   "metadata": {},
   "outputs": [],
   "source": [
    "# ✅ Imports
",
    "import pandas as pd
",
    "import numpy as np
",
    "import matplotlib.pyplot as plt
",
    "import seaborn as sns
",
    "
",
    "from sklearn.model_selection import train_test_split
",
    "from sklearn.impute import SimpleImputer
",
    "from sklearn.preprocessing import StandardScaler, OneHotEncoder
",
    "from sklearn.decomposition import PCA
",
    "from sklearn.pipeline import Pipeline
",
    "from sklearn.compose import ColumnTransformer
",
    "from sklearn.ensemble import GradientBoostingClassifier
",
    "from sklearn.metrics import classification_report, roc_auc_score, roc_curve, confusion_matrix, ConfusionMatrixDisplay
",
    "import lightgbm as lgb"
   ]
  },
  {
   "cell_type": "code",
   "execution_count": null,
   "metadata": {},
   "outputs": [],
   "source": [
    "# ✅ Simulação de dados (substitua por seu arquivo real)
",
    "# df = pd.read_feather('credit_scoring.ftr')
",
    "# Para teste, você pode colar um DataFrame amostral aqui se estiver rodando offline"
   ]
  },
  {
   "cell_type": "code",
   "execution_count": null,
   "metadata": {},
   "outputs": [],
   "source": [
    "# ✅ Separação das variáveis
",
    "X = df.drop(columns=['data_ref', 'index', 'mau'])
",
    "y = df['mau']"
   ]
  },
  {
   "cell_type": "code",
   "execution_count": null,
   "metadata": {},
   "outputs": [],
   "source": [
    "# ✅ Detectar colunas numéricas e categóricas
",
    "num_cols = X.select_dtypes(include=['int64', 'float64']).columns.tolist()
",
    "cat_cols = X.select_dtypes(include=['object', 'bool']).columns.tolist()"
   ]
  },
  {
   "cell_type": "code",
   "execution_count": null,
   "metadata": {},
   "outputs": [],
   "source": [
    "# ✅ Pipeline para numéricas
",
    "num_pipeline = Pipeline([
",
    "    ('imputer', SimpleImputer(strategy='mean')),
",
    "    ('scaler', StandardScaler()),
",
    "    ('pca', PCA(n_components=5))
",
    "])
",
    "
",
    "# ✅ Pipeline para categóricas
",
    "cat_pipeline = Pipeline([
",
    "    ('imputer', SimpleImputer(strategy='most_frequent')),
",
    "    ('encoder', OneHotEncoder(drop='first', sparse_output=False))
",
    "])"
   ]
  },
  {
   "cell_type": "code",
   "execution_count": null,
   "metadata": {},
   "outputs": [],
   "source": [
    "# ✅ Combinando numérico + categórico
",
    "preprocessor = ColumnTransformer([
",
    "    ('num', num_pipeline, num_cols),
",
    "    ('cat', cat_pipeline, cat_cols)
",
    "])"
   ]
  },
  {
   "cell_type": "code",
   "execution_count": null,
   "metadata": {},
   "outputs": [],
   "source": [
    "# ✅ Pipeline final com LightGBM
",
    "pipeline = Pipeline([
",
    "    ('preprocessor', preprocessor),
",
    "    ('classifier', lgb.LGBMClassifier(random_state=42))
",
    "])"
   ]
  },
  {
   "cell_type": "code",
   "execution_count": null,
   "metadata": {},
   "outputs": [],
   "source": [
    "# ✅ Treinar e testar
",
    "X_train, X_test, y_train, y_test = train_test_split(X, y, test_size=0.3, random_state=42)
",
    "pipeline.fit(X_train, y_train)
",
    "y_pred = pipeline.predict(X_test)
",
    "y_proba = pipeline.predict_proba(X_test)[:,1]"
   ]
  },
  {
   "cell_type": "code",
   "execution_count": null,
   "metadata": {},
   "outputs": [],
   "source": [
    "# ✅ Avaliação
",
    "print(classification_report(y_test, y_pred))
",
    "print("AUC-ROC:", roc_auc_score(y_test, y_proba))
",
    "
",
    "# Curva ROC
",
    "fpr, tpr, _ = roc_curve(y_test, y_proba)
",
    "plt.plot(fpr, tpr)
",
    "plt.title('Curva ROC')
",
    "plt.xlabel('False Positive Rate')
",
    "plt.ylabel('True Positive Rate')
",
    "plt.grid(True)
",
    "plt.show()
",
    "
",
    "# Matriz de confusão
",
    "cm = confusion_matrix(y_test, y_pred)
",
    "ConfusionMatrixDisplay(cm).plot()"
   ]
  }
 ],
 "metadata": {
  "kernelspec": {
   "display_name": "Python 3",
   "language": "python",
   "name": "python3"
  },
  "language_info": {
   "name": "python",
   "version": ""
  }
 },
 "nbformat": 4,
 "nbformat_minor": 5
}
